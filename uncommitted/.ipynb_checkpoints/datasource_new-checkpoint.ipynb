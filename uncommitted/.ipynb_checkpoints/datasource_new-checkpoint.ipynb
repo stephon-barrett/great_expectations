{
 "cells": [
  {
   "cell_type": "markdown",
   "id": "9b55377a",
   "metadata": {},
   "source": [
    "# Create a new sqlalchemy Datasource\n",
    "Use this notebook to configure a new sqlalchemy Datasource and add it to your project."
   ]
  },
  {
   "cell_type": "code",
   "execution_count": null,
   "id": "3de2d120",
   "metadata": {},
   "outputs": [],
   "source": [
    "import great_expectations as ge\n",
    "from great_expectations.cli.datasource import sanitize_yaml_and_save_datasource, check_if_datasource_name_exists\n",
    "context = ge.get_context()"
   ]
  },
  {
   "cell_type": "markdown",
   "id": "52a57679",
   "metadata": {},
   "source": [
    "## Customize Your Datasource Configuration\n",
    "\n",
    "**If you are new to Great Expectations Datasources,** you should check out our [how-to documentation](https://docs.greatexpectations.io/docs/guides/connecting_to_your_data/connect_to_data_overview)\n",
    "\n",
    "**My configuration is not so simple - are there more advanced options?**\n",
    "Glad you asked! Datasources are versatile. Please see our [How To Guides](https://docs.greatexpectations.io/docs/guides/connecting_to_your_data/connect_to_data_overview)!\n",
    "\n",
    "Give your datasource a unique name:"
   ]
  },
  {
   "cell_type": "code",
   "execution_count": null,
   "id": "d3f72aeb",
   "metadata": {},
   "outputs": [],
   "source": [
    "datasource_name = \"my_datasource\""
   ]
  },
  {
   "cell_type": "markdown",
   "id": "23e072e4",
   "metadata": {},
   "source": [
    "### For SQL based Datasources:\n",
    "\n",
    "Here we are creating an example configuration based on the database backend you specified in the CLI.  The configuration contains an **InferredAssetSqlDataConnector**, which will add a Data Asset for each table in the database, a **ConfiguredAssetDataConnector**, which will add explicitly defined Data Assets, and a **RuntimeDataConnector**, which can accept SQL queries.\n",
    "\n",
    "If any of these configuration options are not applicable, they can be removed. This is just an example, and you may customize this as you wish!\n",
    "\n",
    "Also, if you would like to learn more about the **DataConnectors** used in this configuration, please see our docs on [InferredAssetDataConnectors](https://docs.greatexpectations.io/docs/guides/connecting_to_your_data/how_to_configure_an_inferredassetdataconnector), [ConfiguredAssetDataConnectors](https://docs.greatexpectations.io/docs/guides/connecting_to_your_data/how_to_configure_a_configuredassetdataconnector), and [RuntimeDataConnectors](https://docs.greatexpectations.io/docs/guides/connecting_to_your_data/how_to_configure_a_runtimedataconnector).\n",
    "\n",
    "Credentials will not be saved until you run the last cell. The credentials will be saved in `uncommitted/config_variables.yml` which should not be added to source control."
   ]
  },
  {
   "cell_type": "code",
   "execution_count": null,
   "id": "637ab1bc",
   "metadata": {},
   "outputs": [],
   "source": [
    "host = \"YOUR_HOST\"\n",
    "port = \"5439\"\n",
    "username = \"YOUR_USERNAME\"\n",
    "password = \"YOUR_PASSWORD\"\n",
    "database = \"YOUR_DATABASE\"\n",
    "schema_name = \"YOUR_SCHEMA\"\n",
    "\n",
    "# A table that you would like to add initially as a Data Asset\n",
    "table_name = \"YOUR_TABLE_NAME\""
   ]
  },
  {
   "cell_type": "code",
   "execution_count": null,
   "id": "4819c96e",
   "metadata": {},
   "outputs": [],
   "source": [
    "example_yaml = f\"\"\"\n",
    "name: {datasource_name}\n",
    "class_name: Datasource\n",
    "execution_engine:\n",
    "  class_name: SqlAlchemyExecutionEngine\n",
    "  credentials:\n",
    "    host: {host}\n",
    "    port: '{port}'\n",
    "    username: {username}\n",
    "    password: {password}\n",
    "    database: {database}\n",
    "    query:\n",
    "      sslmode: prefer\n",
    "    drivername: postgresql+psycopg2\n",
    "data_connectors:\n",
    "  default_runtime_data_connector_name:\n",
    "    class_name: RuntimeDataConnector\n",
    "    batch_identifiers:\n",
    "      - default_identifier_name\n",
    "  default_inferred_data_connector_name:\n",
    "    class_name: InferredAssetSqlDataConnector\n",
    "    include_schema_name: True\n",
    "    introspection_directives:\n",
    "      schema_name: {schema_name}\n",
    "  default_configured_data_connector_name:\n",
    "    class_name: ConfiguredAssetSqlDataConnector\n",
    "    assets:\n",
    "      {table_name}:\n",
    "        class_name: Asset\n",
    "        schema_name: {schema_name}\n",
    "\"\"\"\n",
    "print(example_yaml)"
   ]
  },
  {
   "cell_type": "markdown",
   "id": "a6b39b2d",
   "metadata": {},
   "source": [
    "# Test Your Datasource Configuration\n",
    "Here we will test your Datasource configuration to make sure it is valid.\n",
    "\n",
    "This `test_yaml_config()` function is meant to enable fast dev loops. **If your\n",
    "configuration is correct, this cell will show you some snippets of the data\n",
    "assets in the data source.** You can continually edit your Datasource config\n",
    "yaml and re-run the cell to check until the new config is valid.\n",
    "\n",
    "If you instead wish to use python instead of yaml to configure your Datasource,\n",
    "you can use `context.add_datasource()` and specify all the required parameters."
   ]
  },
  {
   "cell_type": "code",
   "execution_count": null,
   "id": "25021fdf",
   "metadata": {},
   "outputs": [],
   "source": [
    "context.test_yaml_config(yaml_config=example_yaml)"
   ]
  },
  {
   "cell_type": "markdown",
   "id": "1546775c",
   "metadata": {},
   "source": [
    "## Save Your Datasource Configuration\n",
    "Here we will save your Datasource in your Data Context once you are satisfied with the configuration. Note that `overwrite_existing` defaults to False, but you may change it to True if you wish to overwrite. Please note that if you wish to include comments you must add them directly to your `great_expectations.yml`."
   ]
  },
  {
   "cell_type": "code",
   "execution_count": null,
   "id": "710fea0a",
   "metadata": {},
   "outputs": [],
   "source": [
    "sanitize_yaml_and_save_datasource(context, example_yaml, overwrite_existing=False)\n",
    "context.list_datasources()"
   ]
  },
  {
   "cell_type": "markdown",
   "id": "fe1e7d1a",
   "metadata": {},
   "source": [
    "Now you can close this notebook and delete it!"
   ]
  }
 ],
 "metadata": {
  "kernelspec": {
   "display_name": "Python 3 (ipykernel)",
   "language": "python",
   "name": "python3"
  },
  "language_info": {
   "codemirror_mode": {
    "name": "ipython",
    "version": 3
   },
   "file_extension": ".py",
   "mimetype": "text/x-python",
   "name": "python",
   "nbconvert_exporter": "python",
   "pygments_lexer": "ipython3",
   "version": "3.8.13"
  }
 },
 "nbformat": 4,
 "nbformat_minor": 5
}
